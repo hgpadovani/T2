{
 "cells": [
  {
   "cell_type": "code",
   "execution_count": 6,
   "metadata": {
    "collapsed": false
   },
   "outputs": [],
   "source": [
    "import numpy as np\n",
    "import pandas as pd\n",
    "import seaborn as sns\n",
    "from sklearn.metrics import accuracy_score, precision_score, recall_score, f1_score, confusion_matrix\n",
    "from sklearn.model_selection import cross_val_predict                                                                                                                                                                                                                                                                                                                                                                                                                                                                                                                                                                                                                                                                                                                                                                                                                                                                                                                                                                                                                                                                                                                                                                                                                                                                                                                                                                                                                                                                                                                       \n",
    "from scipy.stats import randint as sp_randint\n",
    "from sklearn.linear_model import LogisticRegression\n",
    "from sklearn.preprocessing import StandardScaler\n",
    "from sklearn.model_selection import GridSearchCV, RandomizedSearchCV\n",
    "from keras.models import Sequential\n",
    "from keras.layers import Dense, Dropout\n",
    "from sklearn import preprocessing"
   ]
  },
  {
   "cell_type": "code",
   "execution_count": 7,
   "metadata": {
    "collapsed": true
   },
   "outputs": [],
   "source": [
    "def training(classifier, X_train, y_train, X_test, y_test):\n",
    "    \"\"\"\n",
    "    Function that takes the classifier, fits and predicts for test set, returning some metrics\n",
    "    Parameters:\n",
    "    -----------\n",
    "        classifier: the linear model created\n",
    "        X_train: Training set\n",
    "        y_train: target variable for training set\n",
    "        X_test: Test set\n",
    "        y_test: target variable for test set\n",
    "    Returns:\n",
    "    --------\n",
    "        classifier: the fitted classifier\n",
    "        metrics: classification metrics\n",
    "        preds: predictions on training and test set\n",
    "    \"\"\"\n",
    "        \n",
    "    # Fitting and predicting for training set\n",
    "    classifier.fit(X_train, y_train)\n",
    "    y_pred_train = classifier.predict(X_train)\n",
    "    \n",
    "    # Getting metrics for training set\n",
    "    acc_train = accuracy_score(y_train, y_pred_train)\n",
    "    precision_train = precision_score(y_train, y_pred_train, average = 'micro')\n",
    "    recall_train = recall_score(y_train, y_pred_train, average = 'micro')\n",
    "    f1_train = f1_score(y_train, y_pred_train, average = 'micro')\n",
    "    \n",
    "    # Predicting with cross validation on test set\n",
    "    y_pred_test = cross_val_predict(estimator = classifier, X = X_test, y = y_test, cv = 5, n_jobs = 3)\n",
    "    \n",
    "    # Getting metrics for test set\n",
    "    acc_test = accuracy_score(y_test, y_pred_test)\n",
    "    precision_test = precision_score(y_test, y_pred_test, average = 'micro')\n",
    "    recall_test = recall_score(y_test, y_pred_test, average = 'micro')\n",
    "    f1_test = f1_score(y_test, y_pred_test, average = 'micro')\n",
    "    cm_test = confusion_matrix(y_test, y_pred_test)\n",
    "    \n",
    "    # Saving metrics into a dictionary\n",
    "    metrics = {'precision_train': precision_train,\n",
    "               'precision_test':precision_test,\n",
    "               'f1_score_train':f1_train,\n",
    "               'f1_score_test': f1_test,\n",
    "               'accuracy_train': acc_train,\n",
    "               'accuracy_test': acc_test,\n",
    "               'recall_train': recall_train,\n",
    "               'recall_test': recall_test,\n",
    "               'cm': cm_test}\n",
    "    \n",
    "    preds = {'y_pred_train': y_pred_train,\n",
    "             'y_pred_test': y_pred_test}\n",
    "    return classifier, preds, metrics"
   ]
  },
  {
   "cell_type": "code",
   "execution_count": 8,
   "metadata": {
    "collapsed": true
   },
   "outputs": [],
   "source": [
    "def get_gradients(model):\n",
    "    \"\"\"Return the gradient of every trainable weight in model\n",
    "\n",
    "    Parameters\n",
    "    -----------\n",
    "    model : a keras model instance\n",
    "\n",
    "    First, find all tensors which are trainable in the model. Surprisingly,\n",
    "    `model.trainable_weights` will return tensors for which\n",
    "    trainable=False has been set on their layer (last time I checked), hence the extra check.\n",
    "    Next, get the gradients of the loss with respect to the weights.\n",
    "\n",
    "    \"\"\"\n",
    "    weights = [tensor for tensor in model.trainable_weights if model.get_layer(tensor.name[:-2]).trainable]\n",
    "    optimizer = model.optimizer\n",
    "\n",
    "    return optimizer.get_gradients(model.total_loss, weights)"
   ]
  },
  {
   "cell_type": "code",
   "execution_count": 9,
   "metadata": {
    "collapsed": false
   },
   "outputs": [
    {
     "name": "stderr",
     "output_type": "stream",
     "text": [
      "/usr/local/lib/python3.5/dist-packages/sklearn/utils/validation.py:429: DataConversionWarning: Data with input dtype uint8 was converted to float64 by StandardScaler.\n",
      "  warnings.warn(msg, _DataConversionWarning)\n"
     ]
    }
   ],
   "source": [
    "def unpickle(file):\n",
    "    import pickle\n",
    "    with open(file, 'rb') as fo:\n",
    "        d = pickle.load(fo, encoding='bytes')\n",
    "    return d\n",
    "\n",
    "d1 = unpickle('data_batch_1')\n",
    "d2 = unpickle('data_batch_2')\n",
    "d3 = unpickle('data_batch_3')\n",
    "d4 = unpickle('data_batch_4')\n",
    "d5 = unpickle('data_batch_5')\n",
    "t = unpickle('test_batch')\n",
    "\n",
    "labels1 = d1[b'labels']\n",
    "labels2 = d2[b'labels']\n",
    "labels3 = d3[b'labels']\n",
    "labels4 = d4[b'labels']\n",
    "labels5 = d5[b'labels']\n",
    "y_test = np.array(t[b'labels'])\n",
    "\n",
    "data1 = d1[b'data']\n",
    "data2 = d2[b'data']\n",
    "data3 = d3[b'data']\n",
    "data4 = d4[b'data']\n",
    "data5 = d5[b'data']\n",
    "X_test = t[b'data']\n",
    "\n",
    "X_train = np.concatenate((data1, data2, data3, data4, data5), axis=0)\n",
    "y_train = np.array(labels1 + labels2 + labels3 + labels4 + labels5)\n",
    "\n",
    "del labels1, labels2, labels3, labels4, labels5, data1, data2, data3, data4, data5\n",
    "\n",
    "# Feature Scaling\n",
    "sc_X = StandardScaler()\n",
    "X_train = sc_X.fit_transform(X_train)\n",
    "X_test = sc_X.transform(X_test)"
   ]
  },
  {
   "cell_type": "code",
   "execution_count": null,
   "metadata": {
    "collapsed": true
   },
   "outputs": [],
   "source": [
    "# Model 1 - Logistic Regression One vs All\n",
    "clf_one_x_all = LogisticRegression(solver = 'sag', multi_class= 'ovr', random_state = 0, C=1000)\n",
    "clf_one_x_all, preds_one_x_all, metrics_one_x_all2 = training(clf_one_x_all, X_train, y_train, X_test, y_test)"
   ]
  },
  {
   "cell_type": "code",
   "execution_count": null,
   "metadata": {
    "collapsed": true
   },
   "outputs": [],
   "source": [
    "# Model 2 - Logistic Regression Multinomial\n",
    "clf_multinom = LogisticRegression(solver = 'sag', multi_class= 'multinomial', random_state = 0, C=0.001, n_jobs=2)\n",
    "clf_multinom, preds_multinom, metrics_multinom = training(clf_multinom, X_train, y_train, X_test, y_test)"
   ]
  },
  {
   "cell_type": "code",
   "execution_count": null,
   "metadata": {
    "collapsed": true
   },
   "outputs": [],
   "source": [
    "# Applying Grid Search to find the best model and the best parameters\n",
    "parameters = {'C': [1,10,100,1000]                                                                              , \n",
    "               'solver': ['newton-cg', 'lbfgs', 'liblinear', 'sag'],\n",
    "               }\n",
    "               \n",
    "             \n",
    "random_search = RandomizedSearchCV(estimator = clf_one_x_all,\n",
    "                           param_distributions = parameters,\n",
    "                           scoring = 'accuracy',\n",
    "                           n_iter = 10,\n",
    "                           n_jobs = 4)\n",
    "random_search = random_search.fit(X_train, y_train)\n",
    "best_accuracy = random_search.best_score_\n",
    "best_parameters = random_search.best_params_"
   ]
  },
  {
   "cell_type": "code",
   "execution_count": 10,
   "metadata": {
    "collapsed": false
   },
   "outputs": [
    {
     "name": "stderr",
     "output_type": "stream",
     "text": [
      "/usr/local/lib/python3.5/dist-packages/ipykernel_launcher.py:3: UserWarning: Update your `Dense` call to the Keras 2 API: `Dense(units=800, input_dim=3072, activation=\"relu\", kernel_initializer=\"uniform\")`\n",
      "  This is separate from the ipykernel package so we can avoid doing imports until\n",
      "/usr/local/lib/python3.5/dist-packages/ipykernel_launcher.py:7: UserWarning: Update your `Dense` call to the Keras 2 API: `Dense(activation=\"softmax\", units=10)`\n",
      "  import sys\n"
     ]
    }
   ],
   "source": [
    "# Initialising the ANN and adding the layers\n",
    "clf_nn = Sequential()\n",
    "clf_nn.add(Dense(output_dim = 800, activation = 'relu', init='uniform', input_dim = 3072)) \n",
    "clf_nn.add(Dropout(0.4))\n",
    "#clf_nn.add(Dense(output_dim = 500,  actiitvation = 'relu')) # not necessary to inform the input dimension\n",
    "#clf_nn.add(Dropout(0.4))\n",
    "clf_nn.add(Dense(output_dim = 10, activation = 'softmax')) # One output, using sigmoid for propabilistic outcome\n",
    "clf_nn.add(Dropout(0.4))\n",
    "\n",
    "# Compiling the ANN\n",
    "# adam = a type of stochastic gradient descent\n",
    "# loss = crossentropy for sigmoid function\n",
    "# metrics = tunned for best accuracy\n",
    "clf_nn.compile(optimizer = 'adam', loss = 'mean_squared_error', metrics = ['accuracy'])"
   ]
  },
  {
   "cell_type": "code",
   "execution_count": 11,
   "metadata": {
    "collapsed": true
   },
   "outputs": [],
   "source": [
    "lb = preprocessing.LabelBinarizer()\n",
    "y_train = lb.fit_transform(y_train)\n",
    "y_test = lb.fit_transform(y_test)"
   ]
  },
  {
   "cell_type": "code",
   "execution_count": null,
   "metadata": {
    "collapsed": false
   },
   "outputs": [
    {
     "name": "stdout",
     "output_type": "stream",
     "text": [
      "Epoch 1/50\n",
      "  800/50000 [..............................] - ETA: 67s - loss: 0.1530 - acc: 0.1175 \b\b\b\b\b\b\b\b\b\b\b\b\b\b\b\b\b\b\b\b\b\b\b\b\b\b\b\b\b\b\b\b\b\b\b\b\b\b\b\b\b\b\b\b\b\b\b\b\b\b\b\b\b\b\b\b\b\b\b\b\b\b\b\b\b\b\b\b\b\b\b\b\b\b\b\b\b\b\b\b\b\b\b\b\b"
     ]
    }
   ],
   "source": [
    "# Training the neural net\n",
    "clf_nn.fit(X_train, y_train, batch_size = 400, epochs = 50)"
   ]
  },
  {
   "cell_type": "code",
   "execution_count": null,
   "metadata": {
    "collapsed": true
   },
   "outputs": [],
   "source": [
    "# Predicting the Test set results\n",
    "y_pred_nn = clf_nn.predict(X_test)"
   ]
  },
  {
   "cell_type": "code",
   "execution_count": null,
   "metadata": {
    "collapsed": true
   },
   "outputs": [],
   "source": [
    "# Getting metrics, must return to undummed format\n",
    "y_pred_nn = lb.inverse_transform(y_pred_nn)\n",
    "y_test = lb.inverse_transform(y_test)\n",
    "y_train = lb.inverse_transform(y_train)"
   ]
  },
  {
   "cell_type": "code",
   "execution_count": null,
   "metadata": {
    "collapsed": true
   },
   "outputs": [],
   "source": [
    "# Metrics for neural net\n",
    "acc_test = accuracy_score(y_test, y_pred_nn)\n",
    "precision_test = precision_score(y_test, y_pred_nn, average = 'micro')\n",
    "recall_test = recall_score(y_test, y_pred_nn, average = 'micro')\n",
    "f1_test = f1_score(y_test, y_pred_nn, average = 'micro')\n",
    "cm_test = confusion_matrix(y_test, y_pred_nn)"
   ]
  },
  {
   "cell_type": "code",
   "execution_count": null,
   "metadata": {
    "collapsed": true
   },
   "outputs": [],
   "source": [
    "# Confusion matrix for the best model\n",
    "\n",
    "sns.heatmap(cm_best, annot=False, square=True)"
   ]
  }
 ],
 "metadata": {
  "kernelspec": {
   "display_name": "Python 3",
   "language": "python",
   "name": "python3"
  },
  "language_info": {
   "codemirror_mode": {
    "name": "ipython",
    "version": 3
   },
   "file_extension": ".py",
   "mimetype": "text/x-python",
   "name": "python",
   "nbconvert_exporter": "python",
   "pygments_lexer": "ipython3",
   "version": "3.5.2"
  }
 },
 "nbformat": 4,
 "nbformat_minor": 2
}
