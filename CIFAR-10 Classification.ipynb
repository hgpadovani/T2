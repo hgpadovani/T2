{
 "cells": [
  {
   "cell_type": "code",
   "execution_count": 1,
   "metadata": {
    "collapsed": false,
    "deletable": true,
    "editable": true
   },
   "outputs": [
    {
     "name": "stderr",
     "output_type": "stream",
     "text": [
      "Using TensorFlow backend.\n"
     ]
    }
   ],
   "source": [
    "# Importing all the important stuff\n",
    "%matplotlib inline\n",
    "import numpy as np\n",
    "import pandas as pd\n",
    "import seaborn as sns\n",
    "import pickle\n",
    "from sklearn.metrics import accuracy_score, precision_score, recall_score, f1_score, confusion_matrix\n",
    "from sklearn.model_selection import cross_val_predict                                                                                                                                                                                                                                                                                                                                                                                                                                                                                                                                                                                                                                                                                                                                                                                                                                                                                                                                                                                                                                                                                                                                                                                                                                                                                                                                                                                                                                                                                                                       \n",
    "from scipy.stats import randint as sp_randint\n",
    "from sklearn.linear_model import LogisticRegression\n",
    "from sklearn.preprocessing import StandardScaler\n",
    "from sklearn.model_selection import GridSearchCV\n",
    "from keras.models import Sequential\n",
    "from keras.layers import Dense, Dropout\n",
    "from sklearn import preprocessing"
   ]
  },
  {
   "cell_type": "code",
   "execution_count": 2,
   "metadata": {
    "collapsed": true,
    "deletable": true,
    "editable": true
   },
   "outputs": [],
   "source": [
    "def training(classifier, X_train, y_train, X_test, y_test):\n",
    "    \"\"\"\n",
    "    Function that takes the classifier, fits and predicts for test set, returning some metrics\n",
    "    Parameters:\n",
    "    -----------\n",
    "        classifier: the linear model created\n",
    "        X_train: Training set\n",
    "        y_train: target variable for training set\n",
    "        X_test: Test set\n",
    "        y_test: target variable for test set\n",
    "    Returns:\n",
    "    --------\n",
    "        classifier: the fitted classifier\n",
    "        metrics: classification metrics\n",
    "        preds: predictions on training and test set\n",
    "    \"\"\"\n",
    "        \n",
    "    # Predicting with cross validation on test set\n",
    "    y_pred_train = cross_val_predict(estimator = classifier, X = X_train, y = y_train, cv = 5, n_jobs = 1)\n",
    "    \n",
    "    # Fitting and predicting for training set\n",
    "    classifier.fit(X_train, y_train)\n",
    "    y_pred_test = classifier.predict(X_test)\n",
    "    \n",
    "    # Getting metrics for training set\n",
    "    acc_train = accuracy_score(y_train, y_pred_train)\n",
    "    precision_train = precision_score(y_train, y_pred_train, average = 'micro')\n",
    "    recall_train = recall_score(y_train, y_pred_train, average = 'micro')\n",
    "    f1_train = f1_score(y_train, y_pred_train, average = 'micro')\n",
    "    \n",
    "    # Getting metrics for test set\n",
    "    acc_test = accuracy_score(y_test, y_pred_test)\n",
    "    precision_test = precision_score(y_test, y_pred_test, average = 'micro')\n",
    "    recall_test = recall_score(y_test, y_pred_test, average = 'micro')\n",
    "    f1_test = f1_score(y_test, y_pred_test, average = 'micro')\n",
    "    cm_test = confusion_matrix(y_test, y_pred_test)\n",
    "    \n",
    "    # Saving metrics into a dictionary\n",
    "    metrics = {'precision_train': precision_train,\n",
    "               'precision_test':precision_test,\n",
    "               'f1_score_train':f1_train,\n",
    "               'f1_score_test': f1_test,\n",
    "               'accuracy_train': acc_train,\n",
    "               'accuracy_test': acc_test,\n",
    "               'recall_train': recall_train,\n",
    "               'recall_test': recall_test,\n",
    "               'cm': cm_test}\n",
    "    \n",
    "    preds = {'y_pred_train': y_pred_train,\n",
    "             'y_pred_test': y_pred_test}\n",
    "    return classifier, preds, metrics"
   ]
  },
  {
   "cell_type": "code",
   "execution_count": null,
   "metadata": {
    "collapsed": true,
    "deletable": true,
    "editable": true
   },
   "outputs": [],
   "source": [
    "def get_trainable_params(model):\n",
    "    import keras\n",
    "    params = []\n",
    "    for layer in model.layers:\n",
    "        params += keras.engine.training.collect_trainable_weights(layer)\n",
    "    return params"
   ]
  },
  {
   "cell_type": "code",
   "execution_count": 3,
   "metadata": {
    "collapsed": true,
    "deletable": true,
    "editable": true
   },
   "outputs": [],
   "source": [
    "def unpickle(file):\n",
    "    \"\"\"\n",
    "    Function the unpickles the batches\n",
    "    Parameters:\n",
    "    -----------\n",
    "    Inputs: \n",
    "        file to unpickle\n",
    "    Returns:\n",
    "        unpickled file\n",
    "    \"\"\"\n",
    "    with open(file, 'rb') as fo:\n",
    "        d = pickle.load(fo, encoding='bytes')\n",
    "    return d"
   ]
  },
  {
   "cell_type": "code",
   "execution_count": 4,
   "metadata": {
    "collapsed": false,
    "deletable": true,
    "editable": true
   },
   "outputs": [],
   "source": [
    "# Umpickling all the data and generating X_train, y_train, X_test, y_test\n",
    "\n",
    "d1 = unpickle('data_batch_1')\n",
    "d2 = unpickle('data_batch_2')\n",
    "d3 = unpickle('data_batch_3')\n",
    "d4 = unpickle('data_batch_4')\n",
    "d5 = unpickle('data_batch_5')\n",
    "t = unpickle('test_batch')\n",
    "\n",
    "labels1 = d1[b'labels']\n",
    "labels2 = d2[b'labels']\n",
    "labels3 = d3[b'labels']\n",
    "labels4 = d4[b'labels']\n",
    "labels5 = d5[b'labels']\n",
    "y_test = np.array(t[b'labels'])\n",
    "\n",
    "data1 = d1[b'data']\n",
    "data2 = d2[b'data']\n",
    "data3 = d3[b'data']\n",
    "data4 = d4[b'data']\n",
    "data5 = d5[b'data']\n",
    "X_test = t[b'data']\n",
    "\n",
    "X_train = np.concatenate((data1, data2, data3, data4, data5), axis=0)\n",
    "y_train = np.array(labels1 + labels2 + labels3 + labels4 + labels5)\n",
    "\n",
    "del labels1, labels2, labels3, labels4, labels5, data1, data2, data3, data4, data5 # saving some memory"
   ]
  },
  {
   "cell_type": "code",
   "execution_count": 5,
   "metadata": {
    "collapsed": false,
    "deletable": true,
    "editable": true
   },
   "outputs": [
    {
     "name": "stderr",
     "output_type": "stream",
     "text": [
      "/usr/local/lib/python3.5/dist-packages/sklearn/utils/validation.py:429: DataConversionWarning: Data with input dtype uint8 was converted to float64 by StandardScaler.\n",
      "  warnings.warn(msg, _DataConversionWarning)\n"
     ]
    }
   ],
   "source": [
    "# Feature Scaling\n",
    "\n",
    "sc_X = StandardScaler()\n",
    "X_train = sc_X.fit_transform(X_train)\n",
    "X_test = sc_X.transform(X_test)"
   ]
  },
  {
   "cell_type": "code",
   "execution_count": 6,
   "metadata": {
    "collapsed": false,
    "deletable": true,
    "editable": true
   },
   "outputs": [
    {
     "name": "stderr",
     "output_type": "stream",
     "text": [
      "/usr/local/lib/python3.5/dist-packages/sklearn/linear_model/sag.py:286: ConvergenceWarning: The max_iter was reached which means the coef_ did not converge\n",
      "  \"the coef_ did not converge\", ConvergenceWarning)\n",
      "/usr/local/lib/python3.5/dist-packages/sklearn/linear_model/sag.py:286: ConvergenceWarning: The max_iter was reached which means the coef_ did not converge\n",
      "  \"the coef_ did not converge\", ConvergenceWarning)\n",
      "/usr/local/lib/python3.5/dist-packages/sklearn/linear_model/sag.py:286: ConvergenceWarning: The max_iter was reached which means the coef_ did not converge\n",
      "  \"the coef_ did not converge\", ConvergenceWarning)\n",
      "/usr/local/lib/python3.5/dist-packages/sklearn/linear_model/sag.py:286: ConvergenceWarning: The max_iter was reached which means the coef_ did not converge\n",
      "  \"the coef_ did not converge\", ConvergenceWarning)\n",
      "/usr/local/lib/python3.5/dist-packages/sklearn/linear_model/sag.py:286: ConvergenceWarning: The max_iter was reached which means the coef_ did not converge\n",
      "  \"the coef_ did not converge\", ConvergenceWarning)\n"
     ]
    }
   ],
   "source": [
    "# Model 1 - Logistic Regression One vs All\n",
    "\n",
    "clf_one_x_all = LogisticRegression(solver = 'sag', multi_class= 'ovr', random_state = 0, C=1000, n_jobs=1)\n",
    "clf_one_x_all, preds_one_x_all, metrics_one_x_all = training(clf_one_x_all, X_train, y_train, X_test, y_test)"
   ]
  },
  {
   "cell_type": "code",
   "execution_count": 7,
   "metadata": {
    "collapsed": false,
    "deletable": true,
    "editable": true
   },
   "outputs": [
    {
     "data": {
      "text/plain": [
       "{'accuracy_test': 0.3866,\n",
       " 'accuracy_train': 0.38078000000000001,\n",
       " 'cm': array([[472,  49,  49,  38,  26,  35,  19,  55, 179,  78],\n",
       "        [ 70, 453,  31,  44,  27,  37,  48,  55,  71, 164],\n",
       "        [ 95,  38, 272,  93, 120,  94, 136,  77,  46,  29],\n",
       "        [ 53,  57, 106, 230,  57, 191, 153,  48,  40,  65],\n",
       "        [ 58,  32, 132,  71, 273, 104, 162, 108,  30,  30],\n",
       "        [ 42,  48,  99, 167,  87, 319,  90,  74,  37,  37],\n",
       "        [ 25,  42,  85, 126,  95,  83, 451,  38,  24,  31],\n",
       "        [ 46,  50,  81,  60,  86,  86,  43, 429,  38,  81],\n",
       "        [139,  75,  22,  34,  12,  48,  14,  24, 521, 111],\n",
       "        [ 68, 170,  26,  31,  28,  30,  45,  68,  88, 446]]),\n",
       " 'f1_score_test': 0.3866,\n",
       " 'f1_score_train': 0.38078000000000001,\n",
       " 'precision_test': 0.3866,\n",
       " 'precision_train': 0.38078000000000001,\n",
       " 'recall_test': 0.3866,\n",
       " 'recall_train': 0.38078000000000001}"
      ]
     },
     "execution_count": 7,
     "metadata": {},
     "output_type": "execute_result"
    }
   ],
   "source": [
    "# Printing metrics of Model 1\n",
    "metrics_one_x_all"
   ]
  },
  {
   "cell_type": "code",
   "execution_count": 8,
   "metadata": {
    "collapsed": false,
    "deletable": true,
    "editable": true
   },
   "outputs": [
    {
     "name": "stderr",
     "output_type": "stream",
     "text": [
      "/usr/local/lib/python3.5/dist-packages/sklearn/linear_model/sag.py:286: ConvergenceWarning: The max_iter was reached which means the coef_ did not converge\n",
      "  \"the coef_ did not converge\", ConvergenceWarning)\n",
      "/usr/local/lib/python3.5/dist-packages/sklearn/linear_model/sag.py:286: ConvergenceWarning: The max_iter was reached which means the coef_ did not converge\n",
      "  \"the coef_ did not converge\", ConvergenceWarning)\n",
      "/usr/local/lib/python3.5/dist-packages/sklearn/linear_model/sag.py:286: ConvergenceWarning: The max_iter was reached which means the coef_ did not converge\n",
      "  \"the coef_ did not converge\", ConvergenceWarning)\n",
      "/usr/local/lib/python3.5/dist-packages/sklearn/linear_model/sag.py:286: ConvergenceWarning: The max_iter was reached which means the coef_ did not converge\n",
      "  \"the coef_ did not converge\", ConvergenceWarning)\n",
      "/usr/local/lib/python3.5/dist-packages/sklearn/linear_model/sag.py:286: ConvergenceWarning: The max_iter was reached which means the coef_ did not converge\n",
      "  \"the coef_ did not converge\", ConvergenceWarning)\n"
     ]
    }
   ],
   "source": [
    "# Model 2 - Logistic Regression Multinomial\n",
    "\n",
    "clf_multinom = LogisticRegression(solver = 'sag', multi_class= 'multinomial', random_state = 0, C=1000, n_jobs=1)\n",
    "clf_multinom, preds_multinom, metrics_multinom = training(clf_multinom, X_train, y_train, X_test, y_test)"
   ]
  },
  {
   "cell_type": "code",
   "execution_count": 9,
   "metadata": {
    "collapsed": false,
    "deletable": true,
    "editable": true
   },
   "outputs": [
    {
     "data": {
      "text/plain": [
       "{'accuracy_test': 0.38519999999999999,\n",
       " 'accuracy_train': 0.37985999999999998,\n",
       " 'cm': array([[459,  37,  61,  41,  27,  35,  22,  51, 197,  70],\n",
       "        [ 76, 451,  34,  45,  25,  35,  41,  51,  76, 166],\n",
       "        [ 89,  32, 274,  97, 124,  96, 125,  86,  50,  27],\n",
       "        [ 45,  45, 105, 253,  65, 199, 141,  46,  41,  60],\n",
       "        [ 55,  31, 140,  77, 287, 105, 156,  96,  28,  25],\n",
       "        [ 39,  45,  91, 187,  95, 314,  82,  71,  42,  34],\n",
       "        [ 19,  40,  87, 133, 101,  94, 439,  41,  20,  26],\n",
       "        [ 49,  50,  82,  68,  94,  78,  46, 420,  38,  75],\n",
       "        [149,  75,  27,  39,  12,  42,  11,  16, 519, 110],\n",
       "        [ 77, 185,  19,  36,  30,  27,  46,  57,  87, 436]]),\n",
       " 'f1_score_test': 0.38519999999999999,\n",
       " 'f1_score_train': 0.37985999999999998,\n",
       " 'precision_test': 0.38519999999999999,\n",
       " 'precision_train': 0.37985999999999998,\n",
       " 'recall_test': 0.38519999999999999,\n",
       " 'recall_train': 0.37985999999999998}"
      ]
     },
     "execution_count": 9,
     "metadata": {},
     "output_type": "execute_result"
    }
   ],
   "source": [
    "# Printing metrics of Model 1\n",
    "\n",
    "metrics_multinom"
   ]
  },
  {
   "cell_type": "code",
   "execution_count": null,
   "metadata": {
    "collapsed": false,
    "deletable": true,
    "editable": true
   },
   "outputs": [],
   "source": [
    "# Applying Grid Search to find the best model and the best parameters\n",
    "#parameters = {'C': [1,10,100,1000]}            \n",
    "             \n",
    "#grid_search = GridSearchCV(estimator = clf_multinom,\n",
    "#                           param_grid = parameters,\n",
    "#                           scoring = 'accuracy',\n",
    "#                           cv = 5,\n",
    "#                           n_jobs = 4)\n",
    "#grid_search = grid_search.fit(X_train, y_train)\n",
    "#best_accuracy = grid_search.best_score_\n",
    "#best_parameters = grid_search.best_params_"
   ]
  },
  {
   "cell_type": "code",
   "execution_count": null,
   "metadata": {
    "collapsed": true,
    "deletable": true,
    "editable": true
   },
   "outputs": [],
   "source": [
    "#print(\"Best Accuracy: {}\".format(best_accuracy))\n",
    "#print(\"Best Parameters: {}\".format(best_parameters))"
   ]
  },
  {
   "cell_type": "code",
   "execution_count": 10,
   "metadata": {
    "collapsed": false,
    "deletable": true,
    "editable": true
   },
   "outputs": [
    {
     "name": "stderr",
     "output_type": "stream",
     "text": [
      "/usr/local/lib/python3.5/dist-packages/ipykernel_launcher.py:4: UserWarning: Update your `Dense` call to the Keras 2 API: `Dense(kernel_initializer=\"uniform\", units=500, input_dim=3072, activation=\"relu\")`\n",
      "  after removing the cwd from sys.path.\n",
      "/usr/local/lib/python3.5/dist-packages/ipykernel_launcher.py:6: UserWarning: Update your `Dense` call to the Keras 2 API: `Dense(units=10, activation=\"softmax\")`\n",
      "  \n"
     ]
    }
   ],
   "source": [
    "# Model 3\n",
    "\n",
    "clf_nn_1 = Sequential()\n",
    "clf_nn_1.add(Dense(output_dim = 500, activation = 'relu', init='uniform', input_dim = 3072)) #input and hidden layer\n",
    "#clf_nn_1.add(Dropout(0.2)) # Dropping 40% of connections to avoid overfit\n",
    "clf_nn_1.add(Dense(output_dim = 10, activation = 'softmax')) # 10 outputs\n",
    "#clf_nn.add(Dropout(0.4)) # Dropping connections\n",
    "\n",
    "# Compiling the ANN\n",
    "# adam = a type of stochastic gradient descent\n",
    "# loss = mean squared error\n",
    "# metrics = tunned for best accuracy\n",
    "clf_nn_1.compile(optimizer = 'adam', loss = 'mean_squared_error', metrics = ['accuracy'])"
   ]
  },
  {
   "cell_type": "code",
   "execution_count": 33,
   "metadata": {
    "collapsed": false,
    "deletable": true,
    "editable": true
   },
   "outputs": [
    {
     "name": "stderr",
     "output_type": "stream",
     "text": [
      "/usr/local/lib/python3.5/dist-packages/ipykernel_launcher.py:4: UserWarning: Update your `Dense` call to the Keras 2 API: `Dense(kernel_initializer=\"uniform\", units=1000, input_dim=3072, activation=\"relu\")`\n",
      "  after removing the cwd from sys.path.\n",
      "/usr/local/lib/python3.5/dist-packages/ipykernel_launcher.py:6: UserWarning: Update your `Dense` call to the Keras 2 API: `Dense(units=1000, activation=\"relu\")`\n",
      "  \n",
      "/usr/local/lib/python3.5/dist-packages/ipykernel_launcher.py:8: UserWarning: Update your `Dense` call to the Keras 2 API: `Dense(units=10, activation=\"softmax\")`\n",
      "  \n"
     ]
    }
   ],
   "source": [
    "# Model 4\n",
    "\n",
    "clf_nn_2 = Sequential()\n",
    "clf_nn_2.add(Dense(output_dim = 1000, activation = 'relu', init='uniform', input_dim = 3072)) #input and hidden layer\n",
    "clf_nn_2.add(Dropout(0.25)) # Dropping 40% of connections to avoid overfit\n",
    "clf_nn_2.add(Dense(output_dim = 1000,  activation = 'relu')) # Second hidden layer\n",
    "clf_nn_2.add(Dropout(0.25)) # Dropping 40% of connections to avoid overfit\n",
    "clf_nn_2.add(Dense(output_dim = 10, activation = 'softmax')) # 10 outputs\n",
    "#clf_nn.add(Dropout(0.4)) # Dropping connections\n",
    "\n",
    "# Compiling the ANN\n",
    "# adam = a type of stochastic gradient descent\n",
    "# loss = mean squared error\n",
    "# metrics = tunned for best accuracy\n",
    "clf_nn_2.compile(optimizer = 'adam', loss = 'mean_squared_error', metrics = ['accuracy'])"
   ]
  },
  {
   "cell_type": "code",
   "execution_count": 34,
   "metadata": {
    "collapsed": true,
    "deletable": true,
    "editable": true
   },
   "outputs": [],
   "source": [
    "# Binarizing for training\n",
    "\n",
    "lb = preprocessing.LabelBinarizer()\n",
    "y_train = lb.fit_transform(y_train)\n",
    "y_test = lb.fit_transform(y_test)"
   ]
  },
  {
   "cell_type": "code",
   "execution_count": 15,
   "metadata": {
    "collapsed": false,
    "deletable": true,
    "editable": true
   },
   "outputs": [
    {
     "name": "stdout",
     "output_type": "stream",
     "text": [
      "Epoch 1/100\n",
      "12s - loss: 0.1117 - acc: 0.3242\n",
      "Epoch 2/100\n",
      "12s - loss: 0.0942 - acc: 0.4056\n",
      "Epoch 3/100\n",
      "13s - loss: 0.0865 - acc: 0.4491\n",
      "Epoch 4/100\n",
      "12s - loss: 0.0806 - acc: 0.4762\n",
      "Epoch 5/100\n",
      "12s - loss: 0.0759 - acc: 0.5023\n",
      "Epoch 6/100\n",
      "14s - loss: 0.0714 - acc: 0.5241\n",
      "Epoch 7/100\n",
      "13s - loss: 0.0648 - acc: 0.5603\n",
      "Epoch 8/100\n",
      "12s - loss: 0.0612 - acc: 0.5793\n",
      "Epoch 9/100\n",
      "11s - loss: 0.0581 - acc: 0.5995\n",
      "Epoch 10/100\n",
      "11s - loss: 0.0550 - acc: 0.6192\n",
      "Epoch 11/100\n",
      "11s - loss: 0.0526 - acc: 0.6358\n",
      "Epoch 12/100\n",
      "11s - loss: 0.0507 - acc: 0.6499\n",
      "Epoch 13/100\n",
      "11s - loss: 0.0493 - acc: 0.6605\n",
      "Epoch 14/100\n",
      "11s - loss: 0.0474 - acc: 0.6748\n",
      "Epoch 15/100\n",
      "11s - loss: 0.0452 - acc: 0.6923\n",
      "Epoch 16/100\n",
      "11s - loss: 0.0446 - acc: 0.6983\n",
      "Epoch 17/100\n",
      "11s - loss: 0.0430 - acc: 0.7086\n",
      "Epoch 18/100\n",
      "11s - loss: 0.0408 - acc: 0.7257\n",
      "Epoch 19/100\n",
      "11s - loss: 0.0416 - acc: 0.7202\n",
      "Epoch 20/100\n",
      "11s - loss: 0.0393 - acc: 0.7366\n",
      "Epoch 21/100\n",
      "11s - loss: 0.0386 - acc: 0.7429\n",
      "Epoch 22/100\n",
      "11s - loss: 0.0376 - acc: 0.7527\n",
      "Epoch 23/100\n",
      "11s - loss: 0.0361 - acc: 0.7625\n",
      "Epoch 24/100\n",
      "11s - loss: 0.0348 - acc: 0.7723\n",
      "Epoch 25/100\n",
      "10s - loss: 0.0344 - acc: 0.7747\n",
      "Epoch 26/100\n",
      "10s - loss: 0.0349 - acc: 0.7720\n",
      "Epoch 27/100\n",
      "10s - loss: 0.0324 - acc: 0.7904\n",
      "Epoch 28/100\n",
      "10s - loss: 0.0326 - acc: 0.7873\n",
      "Epoch 29/100\n",
      "10s - loss: 0.0317 - acc: 0.7947\n",
      "Epoch 30/100\n",
      "10s - loss: 0.0309 - acc: 0.8015\n",
      "Epoch 31/100\n",
      "10s - loss: 0.0302 - acc: 0.8068\n",
      "Epoch 32/100\n",
      "10s - loss: 0.0303 - acc: 0.8051\n",
      "Epoch 33/100\n",
      "10s - loss: 0.0295 - acc: 0.8123\n",
      "Epoch 34/100\n",
      "10s - loss: 0.0279 - acc: 0.8229\n",
      "Epoch 35/100\n",
      "10s - loss: 0.0283 - acc: 0.8195\n",
      "Epoch 36/100\n",
      "10s - loss: 0.0272 - acc: 0.8292\n",
      "Epoch 37/100\n",
      "10s - loss: 0.0271 - acc: 0.8291\n",
      "Epoch 38/100\n",
      "10s - loss: 0.0278 - acc: 0.8257\n",
      "Epoch 39/100\n",
      "10s - loss: 0.0279 - acc: 0.8245\n",
      "Epoch 40/100\n",
      "10s - loss: 0.0274 - acc: 0.8282\n",
      "Epoch 41/100\n",
      "10s - loss: 0.0254 - acc: 0.8418\n",
      "Epoch 42/100\n",
      "10s - loss: 0.0252 - acc: 0.8428\n",
      "Epoch 43/100\n",
      "10s - loss: 0.0250 - acc: 0.8436\n",
      "Epoch 44/100\n",
      "10s - loss: 0.0248 - acc: 0.8468\n",
      "Epoch 45/100\n",
      "10s - loss: 0.0241 - acc: 0.8509\n",
      "Epoch 46/100\n",
      "10s - loss: 0.0235 - acc: 0.8548\n",
      "Epoch 47/100\n",
      "10s - loss: 0.0235 - acc: 0.8546\n",
      "Epoch 48/100\n",
      "10s - loss: 0.0244 - acc: 0.8495\n",
      "Epoch 49/100\n",
      "10s - loss: 0.0237 - acc: 0.8542\n",
      "Epoch 50/100\n",
      "10s - loss: 0.0232 - acc: 0.8578\n",
      "Epoch 51/100\n",
      "10s - loss: 0.0234 - acc: 0.8567\n",
      "Epoch 52/100\n",
      "10s - loss: 0.0223 - acc: 0.8638\n",
      "Epoch 53/100\n",
      "10s - loss: 0.0237 - acc: 0.8556\n",
      "Epoch 54/100\n",
      "10s - loss: 0.0244 - acc: 0.8503\n",
      "Epoch 55/100\n",
      "10s - loss: 0.0233 - acc: 0.8581\n",
      "Epoch 56/100\n",
      "10s - loss: 0.0224 - acc: 0.8636\n",
      "Epoch 57/100\n",
      "10s - loss: 0.0222 - acc: 0.8648\n",
      "Epoch 58/100\n",
      "10s - loss: 0.0235 - acc: 0.8576\n",
      "Epoch 59/100\n",
      "10s - loss: 0.0232 - acc: 0.8601\n",
      "Epoch 60/100\n",
      "10s - loss: 0.0225 - acc: 0.8643\n",
      "Epoch 61/100\n",
      "10s - loss: 0.0214 - acc: 0.8715\n",
      "Epoch 62/100\n",
      "10s - loss: 0.0212 - acc: 0.8730\n",
      "Epoch 63/100\n",
      "10s - loss: 0.0225 - acc: 0.8638\n",
      "Epoch 64/100\n",
      "10s - loss: 0.0215 - acc: 0.8710\n",
      "Epoch 65/100\n",
      "10s - loss: 0.0211 - acc: 0.8734\n",
      "Epoch 66/100\n",
      "10s - loss: 0.0221 - acc: 0.8680\n",
      "Epoch 67/100\n",
      "10s - loss: 0.0208 - acc: 0.8750\n",
      "Epoch 68/100\n",
      "10s - loss: 0.0214 - acc: 0.8724\n",
      "Epoch 69/100\n",
      "10s - loss: 0.0212 - acc: 0.8736\n",
      "Epoch 70/100\n",
      "10s - loss: 0.0218 - acc: 0.8703\n",
      "Epoch 71/100\n",
      "10s - loss: 0.0213 - acc: 0.8738\n",
      "Epoch 72/100\n",
      "10s - loss: 0.0205 - acc: 0.8782\n",
      "Epoch 73/100\n",
      "10s - loss: 0.0207 - acc: 0.8768\n",
      "Epoch 74/100\n",
      "10s - loss: 0.0214 - acc: 0.8738\n",
      "Epoch 75/100\n",
      "10s - loss: 0.0205 - acc: 0.8790\n",
      "Epoch 76/100\n",
      "10s - loss: 0.0212 - acc: 0.8752\n",
      "Epoch 77/100\n",
      "10s - loss: 0.0214 - acc: 0.8743\n",
      "Epoch 78/100\n",
      "10s - loss: 0.0202 - acc: 0.8819\n",
      "Epoch 79/100\n",
      "10s - loss: 0.0208 - acc: 0.8774\n",
      "Epoch 80/100\n",
      "10s - loss: 0.0216 - acc: 0.8731\n",
      "Epoch 81/100\n",
      "10s - loss: 0.0226 - acc: 0.8674\n",
      "Epoch 82/100\n",
      "10s - loss: 0.0212 - acc: 0.8770\n",
      "Epoch 83/100\n",
      "10s - loss: 0.0210 - acc: 0.8769\n",
      "Epoch 84/100\n",
      "10s - loss: 0.0216 - acc: 0.8736\n",
      "Epoch 85/100\n",
      "10s - loss: 0.0202 - acc: 0.8818\n",
      "Epoch 86/100\n",
      "10s - loss: 0.0211 - acc: 0.8767\n",
      "Epoch 87/100\n",
      "10s - loss: 0.0203 - acc: 0.8821\n",
      "Epoch 88/100\n",
      "10s - loss: 0.0198 - acc: 0.8846\n",
      "Epoch 89/100\n",
      "10s - loss: 0.0206 - acc: 0.8805\n",
      "Epoch 90/100\n",
      "10s - loss: 0.0205 - acc: 0.8806\n",
      "Epoch 91/100\n",
      "10s - loss: 0.0203 - acc: 0.8826\n",
      "Epoch 92/100\n",
      "10s - loss: 0.0207 - acc: 0.8798\n",
      "Epoch 93/100\n",
      "10s - loss: 0.0211 - acc: 0.8776\n",
      "Epoch 94/100\n",
      "10s - loss: 0.0218 - acc: 0.8752\n",
      "Epoch 95/100\n",
      "10s - loss: 0.0209 - acc: 0.8791\n",
      "Epoch 96/100\n",
      "10s - loss: 0.0208 - acc: 0.8802\n",
      "Epoch 97/100\n",
      "10s - loss: 0.0191 - acc: 0.8907\n",
      "Epoch 98/100\n",
      "10s - loss: 0.0207 - acc: 0.8816\n",
      "Epoch 99/100\n",
      "10s - loss: 0.0197 - acc: 0.8869\n",
      "Epoch 100/100\n",
      "12s - loss: 0.0204 - acc: 0.8836\n"
     ]
    },
    {
     "data": {
      "text/plain": [
       "<keras.callbacks.History at 0x7efcad4a7278>"
      ]
     },
     "execution_count": 15,
     "metadata": {},
     "output_type": "execute_result"
    }
   ],
   "source": [
    "# Training the neural net 1\n",
    "\n",
    "clf_nn_1.fit(X_train, y_train, batch_size = 400, epochs = 100, verbose=2)"
   ]
  },
  {
   "cell_type": "code",
   "execution_count": 35,
   "metadata": {
    "collapsed": false,
    "deletable": true,
    "editable": true
   },
   "outputs": [
    {
     "name": "stdout",
     "output_type": "stream",
     "text": [
      "Epoch 1/100\n",
      "30s - loss: 0.0944 - acc: 0.3066\n",
      "Epoch 2/100\n",
      "29s - loss: 0.0717 - acc: 0.4198\n",
      "Epoch 3/100\n",
      "29s - loss: 0.0684 - acc: 0.4537\n",
      "Epoch 4/100\n",
      "29s - loss: 0.0663 - acc: 0.4786\n",
      "Epoch 5/100\n",
      "29s - loss: 0.0644 - acc: 0.4926\n",
      "Epoch 6/100\n",
      "29s - loss: 0.0630 - acc: 0.5077\n",
      "Epoch 7/100\n",
      "29s - loss: 0.0615 - acc: 0.5205\n",
      "Epoch 8/100\n",
      "29s - loss: 0.0604 - acc: 0.5298\n",
      "Epoch 9/100\n",
      "29s - loss: 0.0590 - acc: 0.5444\n",
      "Epoch 10/100\n",
      "29s - loss: 0.0582 - acc: 0.5526\n",
      "Epoch 11/100\n",
      "29s - loss: 0.0572 - acc: 0.5599\n",
      "Epoch 12/100\n",
      "29s - loss: 0.0564 - acc: 0.5688\n",
      "Epoch 13/100\n",
      "29s - loss: 0.0554 - acc: 0.5788\n",
      "Epoch 14/100\n",
      "29s - loss: 0.0547 - acc: 0.5841\n",
      "Epoch 15/100\n",
      "29s - loss: 0.0538 - acc: 0.5930\n",
      "Epoch 16/100\n",
      "29s - loss: 0.0530 - acc: 0.5997\n",
      "Epoch 17/100\n",
      "29s - loss: 0.0524 - acc: 0.6060\n",
      "Epoch 18/100\n",
      "29s - loss: 0.0517 - acc: 0.6103\n",
      "Epoch 19/100\n",
      "29s - loss: 0.0511 - acc: 0.6147\n",
      "Epoch 20/100\n",
      "29s - loss: 0.0503 - acc: 0.6219\n",
      "Epoch 21/100\n",
      "29s - loss: 0.0500 - acc: 0.6253\n",
      "Epoch 22/100\n",
      "29s - loss: 0.0488 - acc: 0.6357\n",
      "Epoch 23/100\n",
      "28s - loss: 0.0485 - acc: 0.6365\n",
      "Epoch 24/100\n",
      "28s - loss: 0.0480 - acc: 0.6434\n",
      "Epoch 25/100\n",
      "29s - loss: 0.0475 - acc: 0.6465\n",
      "Epoch 26/100\n",
      "29s - loss: 0.0465 - acc: 0.6565\n",
      "Epoch 27/100\n",
      "28s - loss: 0.0464 - acc: 0.6564\n",
      "Epoch 28/100\n",
      "28s - loss: 0.0460 - acc: 0.6585\n",
      "Epoch 29/100\n",
      "29s - loss: 0.0453 - acc: 0.6649\n",
      "Epoch 30/100\n",
      "28s - loss: 0.0447 - acc: 0.6705\n",
      "Epoch 31/100\n",
      "28s - loss: 0.0447 - acc: 0.6695\n",
      "Epoch 32/100\n",
      "28s - loss: 0.0440 - acc: 0.6739\n",
      "Epoch 33/100\n",
      "28s - loss: 0.0435 - acc: 0.6793\n",
      "Epoch 34/100\n",
      "28s - loss: 0.0433 - acc: 0.6832\n",
      "Epoch 35/100\n",
      "28s - loss: 0.0428 - acc: 0.6869\n",
      "Epoch 36/100\n",
      "28s - loss: 0.0421 - acc: 0.6929\n",
      "Epoch 37/100\n",
      "28s - loss: 0.0421 - acc: 0.6891\n",
      "Epoch 38/100\n",
      "28s - loss: 0.0415 - acc: 0.6955\n",
      "Epoch 39/100\n",
      "29s - loss: 0.0412 - acc: 0.7011\n",
      "Epoch 40/100\n",
      "29s - loss: 0.0405 - acc: 0.7062\n",
      "Epoch 41/100\n",
      "29s - loss: 0.0406 - acc: 0.7017\n",
      "Epoch 42/100\n",
      "28s - loss: 0.0401 - acc: 0.7093\n",
      "Epoch 43/100\n",
      "28s - loss: 0.0397 - acc: 0.7120\n",
      "Epoch 44/100\n",
      "29s - loss: 0.0392 - acc: 0.7155\n",
      "Epoch 45/100\n",
      "29s - loss: 0.0387 - acc: 0.7212\n",
      "Epoch 46/100\n",
      "29s - loss: 0.0386 - acc: 0.7187\n",
      "Epoch 47/100\n",
      "29s - loss: 0.0381 - acc: 0.7256\n",
      "Epoch 48/100\n",
      "29s - loss: 0.0378 - acc: 0.7280\n",
      "Epoch 49/100\n",
      "29s - loss: 0.0376 - acc: 0.7294\n",
      "Epoch 50/100\n",
      "29s - loss: 0.0378 - acc: 0.7274\n",
      "Epoch 51/100\n",
      "29s - loss: 0.0372 - acc: 0.7308\n",
      "Epoch 52/100\n",
      "29s - loss: 0.0366 - acc: 0.7375\n",
      "Epoch 53/100\n",
      "29s - loss: 0.0369 - acc: 0.7341\n",
      "Epoch 54/100\n",
      "29s - loss: 0.0362 - acc: 0.7403\n",
      "Epoch 55/100\n",
      "29s - loss: 0.0359 - acc: 0.7433\n",
      "Epoch 56/100\n",
      "29s - loss: 0.0360 - acc: 0.7407\n",
      "Epoch 57/100\n",
      "29s - loss: 0.0353 - acc: 0.7486\n",
      "Epoch 58/100\n",
      "29s - loss: 0.0354 - acc: 0.7455\n",
      "Epoch 59/100\n",
      "29s - loss: 0.0352 - acc: 0.7483\n",
      "Epoch 60/100\n",
      "29s - loss: 0.0348 - acc: 0.7511\n",
      "Epoch 61/100\n",
      "29s - loss: 0.0348 - acc: 0.7522\n",
      "Epoch 62/100\n",
      "29s - loss: 0.0345 - acc: 0.7534\n",
      "Epoch 63/100\n",
      "29s - loss: 0.0347 - acc: 0.7511\n",
      "Epoch 64/100\n",
      "29s - loss: 0.0337 - acc: 0.7597\n",
      "Epoch 65/100\n",
      "29s - loss: 0.0339 - acc: 0.7603\n",
      "Epoch 66/100\n",
      "29s - loss: 0.0335 - acc: 0.7631\n",
      "Epoch 67/100\n",
      "29s - loss: 0.0338 - acc: 0.7606\n",
      "Epoch 68/100\n",
      "29s - loss: 0.0332 - acc: 0.7636\n",
      "Epoch 69/100\n",
      "29s - loss: 0.0332 - acc: 0.7649\n",
      "Epoch 70/100\n",
      "29s - loss: 0.0329 - acc: 0.7662\n",
      "Epoch 71/100\n",
      "28s - loss: 0.0326 - acc: 0.7696\n",
      "Epoch 72/100\n",
      "28s - loss: 0.0326 - acc: 0.7681\n",
      "Epoch 73/100\n",
      "29s - loss: 0.0320 - acc: 0.7736\n",
      "Epoch 74/100\n",
      "29s - loss: 0.0319 - acc: 0.7741\n",
      "Epoch 75/100\n",
      "29s - loss: 0.0317 - acc: 0.7759\n",
      "Epoch 76/100\n",
      "29s - loss: 0.0318 - acc: 0.7749\n",
      "Epoch 77/100\n",
      "28s - loss: 0.0318 - acc: 0.7745\n",
      "Epoch 78/100\n",
      "29s - loss: 0.0315 - acc: 0.7761\n",
      "Epoch 79/100\n",
      "29s - loss: 0.0314 - acc: 0.7792\n",
      "Epoch 80/100\n",
      "29s - loss: 0.0314 - acc: 0.7790\n",
      "Epoch 81/100\n",
      "29s - loss: 0.0311 - acc: 0.7800\n",
      "Epoch 82/100\n",
      "29s - loss: 0.0313 - acc: 0.7781\n",
      "Epoch 83/100\n",
      "28s - loss: 0.0304 - acc: 0.7860\n",
      "Epoch 84/100\n",
      "29s - loss: 0.0300 - acc: 0.7889\n",
      "Epoch 85/100\n",
      "29s - loss: 0.0308 - acc: 0.7828\n",
      "Epoch 86/100\n",
      "29s - loss: 0.0307 - acc: 0.7861\n",
      "Epoch 87/100\n",
      "28s - loss: 0.0301 - acc: 0.7879\n",
      "Epoch 88/100\n",
      "29s - loss: 0.0297 - acc: 0.7907\n",
      "Epoch 89/100\n",
      "28s - loss: 0.0299 - acc: 0.7890\n",
      "Epoch 90/100\n",
      "29s - loss: 0.0298 - acc: 0.7910\n",
      "Epoch 91/100\n",
      "29s - loss: 0.0297 - acc: 0.7922\n",
      "Epoch 92/100\n",
      "29s - loss: 0.0292 - acc: 0.7940\n",
      "Epoch 93/100\n",
      "29s - loss: 0.0294 - acc: 0.7946\n",
      "Epoch 94/100\n",
      "29s - loss: 0.0290 - acc: 0.7966\n",
      "Epoch 95/100\n",
      "29s - loss: 0.0295 - acc: 0.7936\n",
      "Epoch 96/100\n",
      "28s - loss: 0.0294 - acc: 0.7940\n",
      "Epoch 97/100\n",
      "29s - loss: 0.0291 - acc: 0.7966\n",
      "Epoch 98/100\n",
      "28s - loss: 0.0286 - acc: 0.8005\n",
      "Epoch 99/100\n",
      "28s - loss: 0.0294 - acc: 0.7962\n",
      "Epoch 100/100\n",
      "28s - loss: 0.0288 - acc: 0.7987\n"
     ]
    },
    {
     "data": {
      "text/plain": [
       "<keras.callbacks.History at 0x7efca2ec17b8>"
      ]
     },
     "execution_count": 35,
     "metadata": {},
     "output_type": "execute_result"
    }
   ],
   "source": [
    "# Training the neural net 2\n",
    "\n",
    "clf_nn_2.fit(X_train, y_train, batch_size = 400, epochs = 100, verbose=2)"
   ]
  },
  {
   "cell_type": "code",
   "execution_count": 39,
   "metadata": {
    "collapsed": true,
    "deletable": true,
    "editable": true
   },
   "outputs": [],
   "source": [
    "# Predicting the Test set results\n",
    "\n",
    "y_pred_nn_1 = clf_nn_1.predict(X_test)\n",
    "y_pred_nn_2 = clf_nn_2.predict(X_test)"
   ]
  },
  {
   "cell_type": "code",
   "execution_count": 40,
   "metadata": {
    "collapsed": false,
    "deletable": true,
    "editable": true
   },
   "outputs": [],
   "source": [
    "# Return to undummed format\n",
    "\n",
    "y_pred_nn_1 = lb.inverse_transform(y_pred_nn_1)\n",
    "y_pred_nn_2 = lb.inverse_transform(y_pred_nn_2)\n",
    "y_test = lb.inverse_transform(y_test)\n",
    "y_train = lb.inverse_transform(y_train)"
   ]
  },
  {
   "cell_type": "code",
   "execution_count": 41,
   "metadata": {
    "collapsed": false,
    "deletable": true,
    "editable": true
   },
   "outputs": [
    {
     "data": {
      "text/plain": [
       "{'Accuracy': 0.5252,\n",
       " 'CM': array([[663,  23,  51,  18,  41,  13,  16,  27, 107,  41],\n",
       "        [ 63, 534,  26,  31,  15,  28,  11,  18,  74, 200],\n",
       "        [105,   7, 424,  80, 126, 104,  58,  56,  18,  22],\n",
       "        [ 45,  11,  94, 319,  74, 256,  85,  58,  18,  40],\n",
       "        [ 54,  16, 130,  76, 447, 100,  57,  85,  18,  17],\n",
       "        [ 33,   9,  73, 164,  71, 515,  31,  61,  19,  24],\n",
       "        [ 25,  15, 106, 116,  92, 107, 475,  17,  16,  31],\n",
       "        [ 38,  10,  62,  58,  83, 107,  16, 580,  12,  34],\n",
       "        [118,  44,  22,  22,  21,  25,   7,  12, 664,  65],\n",
       "        [ 55,  99,  21,  31,  20,  29,  16,  44,  54, 631]]),\n",
       " 'F1 Score': 0.5252,\n",
       " 'Precision': 0.5252,\n",
       " 'Recall': 0.5252}"
      ]
     },
     "execution_count": 41,
     "metadata": {},
     "output_type": "execute_result"
    }
   ],
   "source": [
    "# Metrics for neural net 1\n",
    "\n",
    "metrics_nn_1 = {'Accuracy': accuracy_score(y_test, y_pred_nn_1),\n",
    "                'Precision': precision_score(y_test, y_pred_nn_1, average = 'micro'),\n",
    "                'Recall': recall_score(y_test, y_pred_nn_1, average = 'micro'),\n",
    "                'F1 Score': f1_score(y_test, y_pred_nn_1, average = 'micro'),\n",
    "                'CM': confusion_matrix(y_test, y_pred_nn_1)    \n",
    "}\n",
    "\n",
    "metrics_nn_1"
   ]
  },
  {
   "cell_type": "code",
   "execution_count": 42,
   "metadata": {
    "collapsed": false,
    "deletable": true,
    "editable": true
   },
   "outputs": [
    {
     "data": {
      "text/plain": [
       "{'Accuracy': 0.55610000000000004,\n",
       " 'CM': array([[647,  31,  44,  23,  62,  13,  15,  13, 103,  49],\n",
       "        [ 37, 664,  15,  21,  35,   9,  21,   8,  56, 134],\n",
       "        [ 89,  15, 400,  88, 171,  71,  81,  42,  22,  21],\n",
       "        [ 18,  12,  64, 394, 125, 191, 107,  41,  17,  31],\n",
       "        [ 41,   5, 128,  71, 551,  48,  67,  57,  18,  14],\n",
       "        [ 19,   7,  75, 202,  87, 459,  62,  53,  11,  25],\n",
       "        [  8,  13,  82,  99, 112,  39, 607,   8,  11,  21],\n",
       "        [ 40,  10,  44,  63, 120,  94,  22, 558,  11,  38],\n",
       "        [ 91,  64,  17,  27,  45,  17,   5,   2, 677,  55],\n",
       "        [ 42, 151,   8,  44,  35,  28,  16,  20,  52, 604]]),\n",
       " 'F1 Score': 0.55610000000000004,\n",
       " 'Precision': 0.55610000000000004,\n",
       " 'Recall': 0.55610000000000004}"
      ]
     },
     "execution_count": 42,
     "metadata": {},
     "output_type": "execute_result"
    }
   ],
   "source": [
    "# Metrics for neural net 2\n",
    "\n",
    "metrics_nn_2 = {'Accuracy': accuracy_score(y_test, y_pred_nn_2),\n",
    "                'Precision': precision_score(y_test, y_pred_nn_2, average = 'micro'),\n",
    "                'Recall': recall_score(y_test, y_pred_nn_2, average = 'micro'),\n",
    "                'F1 Score': f1_score(y_test, y_pred_nn_2, average = 'micro'),\n",
    "                'CM': confusion_matrix(y_test, y_pred_nn_2)    \n",
    "}\n",
    "\n",
    "metrics_nn_2"
   ]
  },
  {
   "cell_type": "code",
   "execution_count": 53,
   "metadata": {
    "collapsed": false,
    "deletable": true,
    "editable": true
   },
   "outputs": [
    {
     "data": {
      "image/png": "[encoded data removed]",
      "text/plain": [
       "<matplotlib.figure.Figure at 0x7efc09b62e48>"
      ]
     },
     "metadata": {},
     "output_type": "display_data"
    }
   ],
   "source": [
    "import matplotlib.pyplot as plt\n",
    "\n",
    "fig, ax = plt.subplots(figsize=(12,12))         # Sample figsize in inches\n",
    "sns.heatmap(metrics_nn_2['CM'], annot=True, linewidths=.5, ax=ax, fmt='d')\n",
    "plt.savefig('cm.png')"
   ]
  }
 ],
 "metadata": {
  "kernelspec": {
   "display_name": "Python 3",
   "language": "python",
   "name": "python3"
  },
  "language_info": {
   "codemirror_mode": {
    "name": "ipython",
    "version": 3
   },
   "file_extension": ".py",
   "mimetype": "text/x-python",
   "name": "python",
   "nbconvert_exporter": "python",
   "pygments_lexer": "ipython3",
   "version": "3.5.2"
  }
 },
 "nbformat": 4,
 "nbformat_minor": 2
}
